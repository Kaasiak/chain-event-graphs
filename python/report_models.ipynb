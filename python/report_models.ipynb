{
 "cells": [
  {
   "cell_type": "code",
   "execution_count": 1,
   "source": [
    "import pandas as pd\n",
    "import numpy as  np\n",
    "from IPython.display import Image\n",
    "import dot2tex as d2t\n",
    "import subprocess\n",
    "\n",
    "import event_tree_class as tree\n",
    "import tree2tex as t2t\n",
    "\n",
    "# def export_to_tex(mod, filename):\n",
    "#     mod_str = mod.to_string()\n",
    "#     f = open(\"figures/%s.dot\" %filename, \"w+\")\n",
    "#     f.write(mod_str)\n",
    "#     f.close()\n",
    "#     cmd = \"dot2tex -tmath --figonly figures/%s.dot > figures/%s.tex\" % (filename, filename)\n",
    "#     subprocess.Popen(cmd, shell=True)"
   ],
   "outputs": [],
   "metadata": {}
  },
  {
   "cell_type": "markdown",
   "source": [
    "# Frequency Model"
   ],
   "metadata": {}
  },
  {
   "cell_type": "code",
   "execution_count": 2,
   "source": [
    "df = pd.read_csv(\"../data/processed/freq_mod.csv\", index_col=0)\n",
    "df.head()"
   ],
   "outputs": [
    {
     "output_type": "execute_result",
     "data": {
      "text/plain": [
       "  age_group sex  freq acc_inv   hp\n",
       "1   (18,21]   M     2       0  0.0\n",
       "2   (21,80]   F     1       0  0.0\n",
       "3   (21,80]   M     1       0  0.0\n",
       "4   (21,80]   F     1       0  0.0\n",
       "5   (21,80]   F     3       0  0.0"
      ],
      "text/html": [
       "<div>\n",
       "<style scoped>\n",
       "    .dataframe tbody tr th:only-of-type {\n",
       "        vertical-align: middle;\n",
       "    }\n",
       "\n",
       "    .dataframe tbody tr th {\n",
       "        vertical-align: top;\n",
       "    }\n",
       "\n",
       "    .dataframe thead th {\n",
       "        text-align: right;\n",
       "    }\n",
       "</style>\n",
       "<table border=\"1\" class=\"dataframe\">\n",
       "  <thead>\n",
       "    <tr style=\"text-align: right;\">\n",
       "      <th></th>\n",
       "      <th>age_group</th>\n",
       "      <th>sex</th>\n",
       "      <th>freq</th>\n",
       "      <th>acc_inv</th>\n",
       "      <th>hp</th>\n",
       "    </tr>\n",
       "  </thead>\n",
       "  <tbody>\n",
       "    <tr>\n",
       "      <th>1</th>\n",
       "      <td>(18,21]</td>\n",
       "      <td>M</td>\n",
       "      <td>2</td>\n",
       "      <td>0</td>\n",
       "      <td>0.0</td>\n",
       "    </tr>\n",
       "    <tr>\n",
       "      <th>2</th>\n",
       "      <td>(21,80]</td>\n",
       "      <td>F</td>\n",
       "      <td>1</td>\n",
       "      <td>0</td>\n",
       "      <td>0.0</td>\n",
       "    </tr>\n",
       "    <tr>\n",
       "      <th>3</th>\n",
       "      <td>(21,80]</td>\n",
       "      <td>M</td>\n",
       "      <td>1</td>\n",
       "      <td>0</td>\n",
       "      <td>0.0</td>\n",
       "    </tr>\n",
       "    <tr>\n",
       "      <th>4</th>\n",
       "      <td>(21,80]</td>\n",
       "      <td>F</td>\n",
       "      <td>1</td>\n",
       "      <td>0</td>\n",
       "      <td>0.0</td>\n",
       "    </tr>\n",
       "    <tr>\n",
       "      <th>5</th>\n",
       "      <td>(21,80]</td>\n",
       "      <td>F</td>\n",
       "      <td>3</td>\n",
       "      <td>0</td>\n",
       "      <td>0.0</td>\n",
       "    </tr>\n",
       "  </tbody>\n",
       "</table>\n",
       "</div>"
      ]
     },
     "metadata": {},
     "execution_count": 2
    }
   ],
   "metadata": {}
  },
  {
   "cell_type": "code",
   "execution_count": 4,
   "source": [
    "order = [\"age_group\", \"sex\", \"freq\", \"acc_inv\"]\n",
    "mod_freq = tree.ceg({'dataframe' : df[order]})\n",
    "new_nodes = [\"v_{\" + str(n) + \"}\" for n in list(range(0, len(mod_freq.nodes)))]\n",
    "mod_freq.rename_nodes(new_nodes)\n",
    "mod_freq.AHC_transitions(alpha = 3)\n",
    "\n",
    "mod_freq_tree = mod_freq.event_tree_figure(\n",
    "    \"figures/tree\", \n",
    "    params={'ranksep': 4.0, 'fontsize': 12, 'shape': \"none\", 'width': 1}, \n",
    "    display_counts=False, \n",
    "    return_raw=True\n",
    ")\n",
    "#export_to_tex(mod_freq_tree, \"freq_event_tree\")\n",
    "#Image(mod_freq_tree.create_png())\n",
    "\n",
    "converter = t2t.converter({\n",
    "  'model': mod_freq_tree,\n",
    "  'labels': (\"Age\", \"Sex\", \"Frequency\", \"Accident\"),\n",
    "  'layer_nodes': (0, 3, 9, 27),\n",
    "  'filename': \"freq_event_tree\"\n",
    "})\n",
    "\n",
    "converter.export_processed()"
   ],
   "outputs": [],
   "metadata": {}
  },
  {
   "cell_type": "code",
   "execution_count": 40,
   "source": [
    "mod_freq_staged_tree = mod_freq.staged_tree_figure(\n",
    "    \"figures/tree\", \n",
    "    params={'ranksep': 4, 'fontsize': 12, 'shape': \"circle\", 'width': 1, 'style': \"filled\"}, \n",
    "    display_counts=False,\n",
    "    return_raw=True\n",
    ")\n",
    "export_to_tex(mod_freq_staged_tree, \"freq_staged_tree\")\n",
    "#Image(mod_freq_staged_tree .create_png())"
   ],
   "outputs": [],
   "metadata": {}
  },
  {
   "cell_type": "code",
   "execution_count": 5,
   "source": [
    "mod_freq_ceg = mod_freq.ceg_figure_optimal(\n",
    "    \"ceg\",  \n",
    "    display_probs=True, \n",
    "    return_raw=True,\n",
    "    params = {'ranksep': 3, 'fontsize': 15, 'shape': \"circle\", 'width': 1, 'style': \"filled\"},\n",
    ")\n",
    "export_to_tex(mod_freq_ceg, \"freq_ceg\")\n",
    "#Image(mod_freq_ceg.create_png())"
   ],
   "outputs": [],
   "metadata": {}
  },
  {
   "cell_type": "markdown",
   "source": [
    "# Mileage model - complete observations"
   ],
   "metadata": {}
  },
  {
   "cell_type": "code",
   "execution_count": 6,
   "source": [
    "df = pd.read_csv(\"../data/processed/miles_mod.csv\", index_col=0)\n",
    "df.head()"
   ],
   "outputs": [
    {
     "output_type": "execute_result",
     "data": {
      "text/plain": [
       "  age_group sex  miles acc_inv\n",
       "1   (18,21]   M    3.0       0\n",
       "2   (21,80]   F    3.0       0\n",
       "3   (21,80]   M    3.0       0\n",
       "4   (21,80]   F    2.0       0\n",
       "5   (21,80]   F    3.0       0"
      ],
      "text/html": [
       "<div>\n",
       "<style scoped>\n",
       "    .dataframe tbody tr th:only-of-type {\n",
       "        vertical-align: middle;\n",
       "    }\n",
       "\n",
       "    .dataframe tbody tr th {\n",
       "        vertical-align: top;\n",
       "    }\n",
       "\n",
       "    .dataframe thead th {\n",
       "        text-align: right;\n",
       "    }\n",
       "</style>\n",
       "<table border=\"1\" class=\"dataframe\">\n",
       "  <thead>\n",
       "    <tr style=\"text-align: right;\">\n",
       "      <th></th>\n",
       "      <th>age_group</th>\n",
       "      <th>sex</th>\n",
       "      <th>miles</th>\n",
       "      <th>acc_inv</th>\n",
       "    </tr>\n",
       "  </thead>\n",
       "  <tbody>\n",
       "    <tr>\n",
       "      <th>1</th>\n",
       "      <td>(18,21]</td>\n",
       "      <td>M</td>\n",
       "      <td>3.0</td>\n",
       "      <td>0</td>\n",
       "    </tr>\n",
       "    <tr>\n",
       "      <th>2</th>\n",
       "      <td>(21,80]</td>\n",
       "      <td>F</td>\n",
       "      <td>3.0</td>\n",
       "      <td>0</td>\n",
       "    </tr>\n",
       "    <tr>\n",
       "      <th>3</th>\n",
       "      <td>(21,80]</td>\n",
       "      <td>M</td>\n",
       "      <td>3.0</td>\n",
       "      <td>0</td>\n",
       "    </tr>\n",
       "    <tr>\n",
       "      <th>4</th>\n",
       "      <td>(21,80]</td>\n",
       "      <td>F</td>\n",
       "      <td>2.0</td>\n",
       "      <td>0</td>\n",
       "    </tr>\n",
       "    <tr>\n",
       "      <th>5</th>\n",
       "      <td>(21,80]</td>\n",
       "      <td>F</td>\n",
       "      <td>3.0</td>\n",
       "      <td>0</td>\n",
       "    </tr>\n",
       "  </tbody>\n",
       "</table>\n",
       "</div>"
      ]
     },
     "metadata": {},
     "execution_count": 6
    }
   ],
   "metadata": {}
  },
  {
   "cell_type": "code",
   "execution_count": 7,
   "source": [
    "df[\"miles\"].isna().sum()\n",
    "df.count()"
   ],
   "outputs": [
    {
     "output_type": "execute_result",
     "data": {
      "text/plain": [
       "age_group    9491\n",
       "sex          9491\n",
       "miles        8734\n",
       "acc_inv      9491\n",
       "dtype: int64"
      ]
     },
     "metadata": {},
     "execution_count": 7
    }
   ],
   "metadata": {}
  },
  {
   "cell_type": "code",
   "execution_count": 8,
   "source": [
    "order = [\"age_group\", \"sex\", \"miles\", \"acc_inv\"]\n",
    "mod_miles = tree.ceg({'dataframe' : df[order].dropna()})\n",
    "new_nodes = [\"w_{\" + str(n) + \"}\" for n in list(range(0, len(mod_miles.nodes)))]\n",
    "mod_miles.rename_nodes(new_nodes)\n",
    "mod_miles.AHC_transitions(alpha = 3)\n",
    "mod_miles_ceg = mod_miles.ceg_figure_optimal(\n",
    "    \"ceg\", params = {'ranksep' : 2, 'fontsize': 15, 'shape': \"circle\", 'width': 0.5, 'style': \"filled\"}, \n",
    "    display_probs=True, \n",
    "    return_raw=True\n",
    ")\n",
    "export_to_tex(mod_miles_ceg, \"miles_complete_ceg\")\n",
    "#Image(mod_miles_ceg.create_png())"
   ],
   "outputs": [],
   "metadata": {}
  },
  {
   "cell_type": "markdown",
   "source": [
    "# Mileage model - missing values"
   ],
   "metadata": {}
  },
  {
   "cell_type": "code",
   "execution_count": 9,
   "source": [
    "order = [\"age_group\", \"sex\", \"is_missing\", \"miles\", \"acc_inv\"]\n",
    "df[\"is_missing\"] = np.where(df[\"miles\"].isna(), \"yes\", \"no\")\n",
    "df[\"miles\"] = np.where(df[\"miles\"].isna(), np.nan, df[\"miles\"].astype('Int64'))\n",
    "mod_miles = tree.ceg({'dataframe' : df[order]})\n",
    "new_nodes = [\"w_{\" + str(n) + \"}\" for n in list(range(0, len(mod_miles.nodes)))]\n",
    "mod_miles.rename_nodes(new_nodes)\n",
    "mod_miles.AHC_transitions(alpha = 3)\n",
    "mod_miles_ceg = mod_miles.ceg_figure_optimal(\n",
    "    \"ceg\", params = {'ranksep' : 1, 'fontsize': 15, 'shape': \"circle\", 'width': 0.5, 'style': \"filled\"}, \n",
    "    display_probs=True, \n",
    "    return_raw=True,\n",
    ")\n",
    "export_to_tex(mod_miles_ceg, \"miles_missing_ceg\")\n",
    "#Image(mod_miles_ceg.create_png())"
   ],
   "outputs": [],
   "metadata": {}
  },
  {
   "cell_type": "markdown",
   "source": [
    "# Missing responses"
   ],
   "metadata": {}
  },
  {
   "cell_type": "code",
   "execution_count": 14,
   "source": [
    "df = pd.read_csv(\"../data/processed/new_missing_values.csv\", index_col = 0)\n",
    "df = df[df[\"sent\"] == 1]\n",
    "df.head()"
   ],
   "outputs": [
    {
     "output_type": "execute_result",
     "data": {
      "text/plain": [
       "   sex  cohort  sent  wave1  wave2  wave3  wave4\n",
       "24   F       2     1      1      1    1.0    1.0\n",
       "25   M      15     1      1      1    NaN    NaN\n",
       "41   F       5     1      0      0    0.0    0.0\n",
       "51   M       3     1      0      1    1.0    1.0\n",
       "54   M       4     1      1      0    1.0    1.0"
      ],
      "text/html": [
       "<div>\n",
       "<style scoped>\n",
       "    .dataframe tbody tr th:only-of-type {\n",
       "        vertical-align: middle;\n",
       "    }\n",
       "\n",
       "    .dataframe tbody tr th {\n",
       "        vertical-align: top;\n",
       "    }\n",
       "\n",
       "    .dataframe thead th {\n",
       "        text-align: right;\n",
       "    }\n",
       "</style>\n",
       "<table border=\"1\" class=\"dataframe\">\n",
       "  <thead>\n",
       "    <tr style=\"text-align: right;\">\n",
       "      <th></th>\n",
       "      <th>sex</th>\n",
       "      <th>cohort</th>\n",
       "      <th>sent</th>\n",
       "      <th>wave1</th>\n",
       "      <th>wave2</th>\n",
       "      <th>wave3</th>\n",
       "      <th>wave4</th>\n",
       "    </tr>\n",
       "  </thead>\n",
       "  <tbody>\n",
       "    <tr>\n",
       "      <th>24</th>\n",
       "      <td>F</td>\n",
       "      <td>2</td>\n",
       "      <td>1</td>\n",
       "      <td>1</td>\n",
       "      <td>1</td>\n",
       "      <td>1.0</td>\n",
       "      <td>1.0</td>\n",
       "    </tr>\n",
       "    <tr>\n",
       "      <th>25</th>\n",
       "      <td>M</td>\n",
       "      <td>15</td>\n",
       "      <td>1</td>\n",
       "      <td>1</td>\n",
       "      <td>1</td>\n",
       "      <td>NaN</td>\n",
       "      <td>NaN</td>\n",
       "    </tr>\n",
       "    <tr>\n",
       "      <th>41</th>\n",
       "      <td>F</td>\n",
       "      <td>5</td>\n",
       "      <td>1</td>\n",
       "      <td>0</td>\n",
       "      <td>0</td>\n",
       "      <td>0.0</td>\n",
       "      <td>0.0</td>\n",
       "    </tr>\n",
       "    <tr>\n",
       "      <th>51</th>\n",
       "      <td>M</td>\n",
       "      <td>3</td>\n",
       "      <td>1</td>\n",
       "      <td>0</td>\n",
       "      <td>1</td>\n",
       "      <td>1.0</td>\n",
       "      <td>1.0</td>\n",
       "    </tr>\n",
       "    <tr>\n",
       "      <th>54</th>\n",
       "      <td>M</td>\n",
       "      <td>4</td>\n",
       "      <td>1</td>\n",
       "      <td>1</td>\n",
       "      <td>0</td>\n",
       "      <td>1.0</td>\n",
       "      <td>1.0</td>\n",
       "    </tr>\n",
       "  </tbody>\n",
       "</table>\n",
       "</div>"
      ]
     },
     "metadata": {},
     "execution_count": 14
    }
   ],
   "metadata": {}
  },
  {
   "cell_type": "code",
   "execution_count": 15,
   "source": [
    "df.groupby(\"sex\").sum()"
   ],
   "outputs": [
    {
     "output_type": "execute_result",
     "data": {
      "text/plain": [
       "     cohort   sent  wave1  wave2   wave3   wave4\n",
       "sex                                             \n",
       "F     96574  11817   6410   4825  2792.0  1878.0\n",
       "M     65477   8115   3640   2613  1394.0   880.0"
      ],
      "text/html": [
       "<div>\n",
       "<style scoped>\n",
       "    .dataframe tbody tr th:only-of-type {\n",
       "        vertical-align: middle;\n",
       "    }\n",
       "\n",
       "    .dataframe tbody tr th {\n",
       "        vertical-align: top;\n",
       "    }\n",
       "\n",
       "    .dataframe thead th {\n",
       "        text-align: right;\n",
       "    }\n",
       "</style>\n",
       "<table border=\"1\" class=\"dataframe\">\n",
       "  <thead>\n",
       "    <tr style=\"text-align: right;\">\n",
       "      <th></th>\n",
       "      <th>cohort</th>\n",
       "      <th>sent</th>\n",
       "      <th>wave1</th>\n",
       "      <th>wave2</th>\n",
       "      <th>wave3</th>\n",
       "      <th>wave4</th>\n",
       "    </tr>\n",
       "    <tr>\n",
       "      <th>sex</th>\n",
       "      <th></th>\n",
       "      <th></th>\n",
       "      <th></th>\n",
       "      <th></th>\n",
       "      <th></th>\n",
       "      <th></th>\n",
       "    </tr>\n",
       "  </thead>\n",
       "  <tbody>\n",
       "    <tr>\n",
       "      <th>F</th>\n",
       "      <td>96574</td>\n",
       "      <td>11817</td>\n",
       "      <td>6410</td>\n",
       "      <td>4825</td>\n",
       "      <td>2792.0</td>\n",
       "      <td>1878.0</td>\n",
       "    </tr>\n",
       "    <tr>\n",
       "      <th>M</th>\n",
       "      <td>65477</td>\n",
       "      <td>8115</td>\n",
       "      <td>3640</td>\n",
       "      <td>2613</td>\n",
       "      <td>1394.0</td>\n",
       "      <td>880.0</td>\n",
       "    </tr>\n",
       "  </tbody>\n",
       "</table>\n",
       "</div>"
      ]
     },
     "metadata": {},
     "execution_count": 15
    }
   ],
   "metadata": {}
  },
  {
   "cell_type": "code",
   "execution_count": 18,
   "source": [
    "order = [\"sex\", \"wave1\", \"wave2\", \"wave3\", \"wave4\"]\n",
    "mod_responses = tree.ceg({'dataframe' : df[order]})\n",
    "new_nodes = [\"w_{\" + str(n) + \"}\" for n in list(range(0, len(mod_responses.nodes)))]\n",
    "mod_responses.rename_nodes(new_nodes)\n",
    "mod_responses.AHC_transitions(alpha = 2)\n",
    "mod_responses_ceg = mod_responses.ceg_figure_optimal(\"plot_ceg\", return_raw=True)\n",
    "export_to_tex(mod_responses_ceg, \"responses_ceg\")\n",
    "#Image(mod_responses_ceg.create_png())"
   ],
   "outputs": [],
   "metadata": {}
  },
  {
   "cell_type": "code",
   "execution_count": 21,
   "source": [
    "df[\"12\"] = df[\"wave1\"].astype(str) + df[\"wave2\"].astype(str)\n",
    "order = [\"sex\", \"12\", \"wave3\", \"wave4\"]\n",
    "mod_compact_responses = tree.ceg({'dataframe' : df[order]})\n",
    "new_nodes = [\"w_{\" + str(n) + \"}\" for n in list(range(0, len(mod_compact_responses.nodes)))]\n",
    "mod_compact_responses.rename_nodes(new_nodes)\n",
    "mod_compact_responses.AHC_transitions(alpha = 2)\n",
    "mod_responses_compact_ceg = mod_responses.ceg_figure_optimal(\"plot_ceg\", return_raw=True)\n",
    "export_to_tex(mod_responses_compact_ceg, \"responses_compact_ceg\")\n",
    "#Image(mod_responses_ceg.create_png())"
   ],
   "outputs": [],
   "metadata": {}
  },
  {
   "cell_type": "code",
   "execution_count": null,
   "source": [],
   "outputs": [],
   "metadata": {}
  }
 ],
 "metadata": {
  "orig_nbformat": 4,
  "language_info": {
   "name": "python",
   "version": "3.8.2",
   "mimetype": "text/x-python",
   "codemirror_mode": {
    "name": "ipython",
    "version": 3
   },
   "pygments_lexer": "ipython3",
   "nbconvert_exporter": "python",
   "file_extension": ".py"
  },
  "kernelspec": {
   "name": "python3",
   "display_name": "Python 3.8.2 64-bit ('base': conda)"
  },
  "interpreter": {
   "hash": "8872e177e4568a55dc13ceef7c287986b36e2a2a8f86c4abfe403cd5deea35a3"
  }
 },
 "nbformat": 4,
 "nbformat_minor": 2
}